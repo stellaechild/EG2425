{
  "cells": [
    {
      "cell_type": "markdown",
      "metadata": {
        "id": "Cgfz_uGlF6Hr"
      },
      "source": [
        "# EG 24/25 - TPC3 (Lista - Lark)\n",
        "\n",
        "## Maria Cunha e Tomás Campinho - Gr10\n",
        "\n",
        "Link Google Colab: https://colab.research.google.com/drive/1IYqNLf13kmUP0zxJWsbUdbKInlW5g40S?usp=sharing"
      ]
    },
    {
      "cell_type": "markdown",
      "metadata": {
        "id": "SPacRPxCxPIh"
      },
      "source": [
        "Desenvolva uma GIC para definir uma linguagem que permita escrever listas mistas de números e palavras, de tal forma que as 3 frases abaixo sejam frases válidas dessa linguagem:\n",
        "\n",
        "LISTA 1 .\n",
        "\n",
        "Lista aaa .\n",
        "\n",
        "Lista 1, 2, agora, 3, 4, fim, 7, 8.\n",
        "\n",
        "Resolva as seguintes alíneas recorrendo ao uso de Transformer :\n",
        "\n",
        "(a) Calcule, retorne e imprima quantos elementos existem numa lista.\n",
        "\n",
        "(b) Identifique, retorne e imprima o elemento que mais se repete numa lista.\n",
        "\n",
        "(c) Calcule, retorne e imprima a soma de todos os números que se encontrem entre as palavras agora e fim de uma lista.\n",
        "\n",
        "(d) Verifique se uma lista é válida de acordo com os seguintes parâmetros :\n",
        "\n",
        "Caso a palavra \"agora\" ocorra então a palavra \"fim\" também tem de aparecer posteriormente na lista e o contrário também.\n",
        "Entre \"agora\" e \"fim\" tem de aparecer pelo menos um número."
      ]
    },
    {
      "cell_type": "code",
      "execution_count": 1,
      "metadata": {
        "colab": {
          "base_uri": "https://localhost:8080/"
        },
        "id": "7vgghlC6xQm6",
        "outputId": "274bd259-371a-4b1f-fd70-13b654132b97"
      },
      "outputs": [
        {
          "name": "stdout",
          "output_type": "stream",
          "text": [
            "Requirement already satisfied: lark in /home/mirtilo/miniconda3/lib/python3.12/site-packages (1.2.2)\n"
          ]
        }
      ],
      "source": [
        "!pip install lark"
      ]
    },
    {
      "cell_type": "code",
      "execution_count": 4,
      "metadata": {
        "colab": {
          "base_uri": "https://localhost:8080/"
        },
        "id": "vLehhpem5ICS",
        "outputId": "a300e8f7-8dd3-41c7-f67b-0a644def43d7"
      },
      "outputs": [
        {
          "name": "stdout",
          "output_type": "stream",
          "text": [
            "Numero de elementos na lista: 14\n",
            "Elemento mais comum: 6\n",
            "Soma entre agora e fim: 19.0\n",
            "Lista válida: True\n"
          ]
        }
      ],
      "source": [
        "from lark import Lark, Transformer, Token, Tree\n",
        "\n",
        "grammar = r'''\n",
        "start: lista\n",
        "lista: elems DOT\n",
        "elems: elem (\",\" elem)*\n",
        "elem: num\n",
        "    | pal\n",
        "    | AGORA\n",
        "    | FIM\n",
        "\n",
        "num: /\\d+(\\.\\d+)?/\n",
        "pal: /[a-zA-Z]+/\n",
        "AGORA: \"agora\"\n",
        "FIM: \"fim\"\n",
        "DOT: \".\"\n",
        "\n",
        "%import common.WS\n",
        "%ignore WS\n",
        "'''\n",
        "\n",
        "parser = Lark(grammar, start='start', parser='lalr')\n",
        "\n",
        "from lark import Transformer, Tree, Token\n",
        "\n",
        "class CalcTransformer(Transformer):\n",
        "    def __init__(self):\n",
        "        self.count = 0\n",
        "        self.elements = []\n",
        "        self.soma = 0\n",
        "        self.agora_stack = []\n",
        "\n",
        "    def lista(self, items):\n",
        "        return items[0]\n",
        "\n",
        "    def elems(self, items):\n",
        "        filtered_items = [item for item in items if item not in {\",\", \".\"}]\n",
        "\n",
        "        # ao contar elementos, não contar as palavras agora e fim\n",
        "        self.elements = [item for item in filtered_items if item not in {\"agora\", \"fim\"}]\n",
        "        self.full_elements = filtered_items  \n",
        "        self.count = len(self.full_elements)\n",
        "\n",
        "        # fazer o tracking da soma entre \"agora\" and \"fim\" com uma stack\n",
        "        self.soma = 0\n",
        "        self.agora_stack = []\n",
        "\n",
        "        for item in filtered_items:\n",
        "            if item == \"agora\":\n",
        "                self.agora_stack.append(True)\n",
        "            elif item == \"fim\":\n",
        "                if self.agora_stack:\n",
        "                    self.agora_stack.pop()\n",
        "            elif self.agora_stack and isinstance(item, (int, float)):\n",
        "                self.soma += item  # soma apenas um \"agora\" estiver aberto\n",
        "            elif self.agora_stack and isinstance(item, str) and item.replace('.', '', 1).isdigit():\n",
        "                self.soma += float(item)\n",
        "\n",
        "        return filtered_items\n",
        "\n",
        "    def elem(self, item):\n",
        "        if isinstance(item[0], Tree):\n",
        "            return item[0].children[0].value  # num\n",
        "        elif isinstance(item[0], Token):\n",
        "            return item[0].value  # pal, agora, fim\n",
        "        return None\n",
        "\n",
        "    def most_common(self):\n",
        "        if not self.elements:\n",
        "            return None\n",
        "        return max(set(self.elements), key=self.elements.count, default=None)\n",
        "\n",
        "  \n",
        "    \n",
        "    def is_valid(self):\n",
        "        if not self.full_elements:\n",
        "            return True  # Lista vazia é válida??\n",
        "\n",
        "        valid_stack = [] \n",
        "\n",
        "        for item in self.full_elements: \n",
        "            if item == \"agora\":\n",
        "                valid_stack.append(False)  # nao tem numero e tbm n tem fim\n",
        "            elif item == \"fim\":\n",
        "                if not valid_stack:\n",
        "                    return False  # se nao tiver agora entao e falso\n",
        "                if not valid_stack.pop():\n",
        "                    return False  # tem agora mas nao tem numero\n",
        "            elif valid_stack and item.replace('.', '', 1).isdigit():\n",
        "                valid_stack[-1] = True  # agora, fim e numero in between = true\n",
        "\n",
        "        return not valid_stack\n",
        "\n",
        "\n",
        "\n",
        "text = \"1, agora, 2, agora, 3, fim, 4,fim, 5, 6, 6, agora, 10, fim .\"\n",
        "\n",
        "tree = parser.parse(text)\n",
        "calctransformer = CalcTransformer()\n",
        "calctransformer.transform(tree)\n",
        "\n",
        "print(\"Numero de elementos na lista:\", calctransformer.count)\n",
        "print(\"Elemento mais comum:\", calctransformer.most_common())\n",
        "print(\"Soma entre agora e fim:\", calctransformer.soma)\n",
        "print(\"Lista válida:\", calctransformer.is_valid())"
      ]
    }
  ],
  "metadata": {
    "colab": {
      "provenance": []
    },
    "kernelspec": {
      "display_name": "base",
      "language": "python",
      "name": "python3"
    },
    "language_info": {
      "codemirror_mode": {
        "name": "ipython",
        "version": 3
      },
      "file_extension": ".py",
      "mimetype": "text/x-python",
      "name": "python",
      "nbconvert_exporter": "python",
      "pygments_lexer": "ipython3",
      "version": "3.12.9"
    }
  },
  "nbformat": 4,
  "nbformat_minor": 0
}
