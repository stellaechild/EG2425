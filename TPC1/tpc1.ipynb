{
  "cells": [
    {
      "cell_type": "markdown",
      "metadata": {
        "id": "RhTG7cdSlUa4"
      },
      "source": [
        "# EG 24/25 - Conversão do TPC1 para Lark\n",
        "\n",
        "## Maria Cunha e Tomás Campinho - Gr10"
      ]
    },
    {
      "cell_type": "markdown",
      "metadata": {
        "id": "tzSOWqSEeHJF"
      },
      "source": [
        "Link Google Colab: https://colab.research.google.com/drive/1mEA8PuKzugD_vmJPzaZfyOX06TzLaCsB?usp=sharing"
      ]
    },
    {
      "cell_type": "markdown",
      "metadata": {
        "id": "F0hQn07HlZI-"
      },
      "source": [
        "## Implementar e adaptar a seguinte gramática em Lark:\n",
        "\n",
        "Terminal: { '.', ';', '[', ']', num }  \n",
        "Non-Terminal: { S, Is, RI, I }  \n",
        "Production Rules (P):  \n",
        "\n",
        "- p1: Sentence: Signal Intervals '.'  \n",
        "\n",
        "- p2: Signal: '+'  \n",
        "\n",
        "- p3: Signal: '-'  \n",
        "\n",
        "- p4: Intervals: Interval  \n",
        "\n",
        "- p5: Intervals: Intervals Interval  \n",
        "\n",
        "- p6: Interval: '[' num ':' num ']'  \n",
        "\n",
        "  - CC1: p[4] > p[2] &  \n",
        "  - CC2: p[2] >= parser.anterior  \n",
        "  - parser.anterior = p[4]  \n",
        "  - parser.erro = not (CC1) or not (CC2)  \n"
      ]
    },
    {
      "cell_type": "code",
      "execution_count": 2,
      "metadata": {
        "colab": {
          "base_uri": "https://localhost:8080/"
        },
        "id": "nwqi507KKvNk",
        "outputId": "d3776161-38a9-4181-9f7e-675c99d7fe96"
      },
      "outputs": [
        {
          "name": "stdout",
          "output_type": "stream",
          "text": [
            "Collecting lark\n",
            "  Using cached lark-1.2.2-py3-none-any.whl.metadata (1.8 kB)\n",
            "Using cached lark-1.2.2-py3-none-any.whl (111 kB)\n",
            "Installing collected packages: lark\n",
            "Successfully installed lark-1.2.2\n"
          ]
        }
      ],
      "source": [
        "!pip install lark"
      ]
    },
    {
      "cell_type": "code",
      "execution_count": null,
      "metadata": {
        "colab": {
          "base_uri": "https://localhost:8080/"
        },
        "id": "-ZCHvPj4SRJl",
        "outputId": "e71e3b8c-a1be-4ef5-a88a-a21e9aa64809"
      },
      "outputs": [
        {
          "name": "stdout",
          "output_type": "stream",
          "text": [
            "sentence\n",
            "  signal\t-\n",
            "  intervals\n",
            "    interval\n",
            "      [\n",
            "      num\t1.0\n",
            "      :\n",
            "      num\t9.0\n",
            "      ]\n",
            "    interval\n",
            "      [\n",
            "      num\t15.0\n",
            "      :\n",
            "      num\t3.0\n",
            "      ]\n",
            "  .\n",
            "\n",
            "CC1 Error: interval [1.0:9.0] is in the wrong order according to the sentence signal '-'\n",
            "CC2 Error: interval [15.0:3.0] starts with 15.0 but previous interval ends with 9.0\n",
            "\n",
            "IsValid: False \n",
            "Number of intervals: 2 \n",
            "Largest interval width: 12.0\n"
          ]
        }
      ],
      "source": [
        "from lark import Lark, Transformer\n",
        "\n",
        "grammar = r'''\n",
        "// Regras Sintáticas\n",
        "sentence: signal intervals DOT\n",
        "intervals: interval+\n",
        "signal: PLUS\n",
        "      | MINUS\n",
        "interval: PE num COL num PD\n",
        "\n",
        "// Regras Lexicográficas\n",
        "num: /\\d+(\\.\\d+)?/\n",
        "PLUS: \"+\"\n",
        "MINUS: \"-\"\n",
        "DOT: \".\"\n",
        "PE:\"[\"\n",
        "PD:\"]\"\n",
        "COL:\":\"\n",
        "\n",
        "// Ignorar espaços em branco\n",
        "%import common.WS\n",
        "%ignore WS\n",
        "'''\n",
        "\n",
        "parser = Lark(grammar, start='sentence', parser='lalr')\n",
        "\n",
        "class IntervalTransformer(Transformer):\n",
        "    def __init__(self):\n",
        "        self.anterior = None\n",
        "        self.erro = False\n",
        "        self.sentido = None\n",
        "        self.interval_list = []\n",
        "\n",
        "    def signal(self, items):\n",
        "        self.sentido = items[0].value\n",
        "\n",
        "    def intervals(self, items):\n",
        "        return items\n",
        "\n",
        "    def interval(self, items):\n",
        "        start = float(items[1].children[0].value)\n",
        "        end = float(items[3].children[0].value)\n",
        "\n",
        "        self.interval_list.append(abs(end - start))\n",
        "\n",
        "        if self.sentido == \"+\":\n",
        "            CC1 = end > start\n",
        "            CC2 = start >= self.anterior if self.anterior is not None else True\n",
        "        else:\n",
        "            CC1 = start > end\n",
        "            CC2 = start <= self.anterior if self.anterior is not None else True\n",
        "\n",
        "        if not CC1:\n",
        "            print(f\"CC1 Error: interval [{start}:{end}] is in the wrong order according to the sentence signal '{self.sentido}'\")\n",
        "            self.erro = True\n",
        "\n",
        "        if not CC2:\n",
        "            print(f\"CC2 Error: interval [{start}:{end}] starts with {start} but previous interval ends with {self.anterior}\")\n",
        "            self.erro = True\n",
        "\n",
        "        self.anterior = end\n",
        "\n",
        "    def sentence_info(self):\n",
        "        is_valid = not self.erro\n",
        "        num_intervals = len(self.interval_list)\n",
        "        largest_interval = max(self.interval_list) if self.interval_list else 0\n",
        "        return is_valid, num_intervals, largest_interval\n",
        "\n",
        "\n",
        "input_data = \"- [1.0:9.0] [15.0:3.0].\"\n",
        "tree = parser.parse(input_data)\n",
        "print(tree.pretty())\n",
        "\n",
        "transformer = IntervalTransformer()\n",
        "transformer.transform(tree)\n",
        "\n",
        "is_valid, num_intervals, largest_interval = transformer.sentence_info()\n",
        "print(f\"\\nIsValid: {is_valid} \\nNumber of intervals: {num_intervals} \\nLargest interval width: {largest_interval}\")"
      ]
    }
  ],
  "metadata": {
    "colab": {
      "provenance": []
    },
    "kernelspec": {
      "display_name": "base",
      "language": "python",
      "name": "python3"
    },
    "language_info": {
      "codemirror_mode": {
        "name": "ipython",
        "version": 3
      },
      "file_extension": ".py",
      "mimetype": "text/x-python",
      "name": "python",
      "nbconvert_exporter": "python",
      "pygments_lexer": "ipython3",
      "version": "3.12.2"
    }
  },
  "nbformat": 4,
  "nbformat_minor": 0
}
