{
 "cells": [
  {
   "cell_type": "markdown",
   "metadata": {},
   "source": [
    "# EG 24/25 - Conversão de Expressão para Lark\n",
    "\n",
    "## Maria Cunha e Tomás Campinho - Gr10"
   ]
  },
  {
   "cell_type": "markdown",
   "metadata": {},
   "source": [
    "## Exemplo fornecido pelos Docentes"
   ]
  },
  {
   "cell_type": "code",
   "execution_count": 4,
   "metadata": {},
   "outputs": [
    {
     "name": "stdout",
     "output_type": "stream",
     "text": [
      "Requirement already satisfied: lark in /home/mirtilo/miniconda3/envs/myenv/lib/python3.8/site-packages (1.2.2)\n",
      "Tree(Token('RULE', 'start'), [Token('PE', '['), Tree(Token('RULE', 'elementos'), [Tree(Token('RULE', 'elemento'), [Token('NUMERO', '1')]), Token('VIR', ','), Tree(Token('RULE', 'elemento'), [Token('NUMERO', '23')]), Token('VIR', ','), Tree(Token('RULE', 'elemento'), [Token('NUMERO', '345')])]), Token('PD', ']')])\n",
      "start\n",
      "  [\n",
      "  elementos\n",
      "    elemento\t1\n",
      "    ,\n",
      "    elemento\t23\n",
      "    ,\n",
      "    elemento\t345\n",
      "  ]\n",
      "\n"
     ]
    }
   ],
   "source": [
    "!pip install lark\n",
    "from lark import Lark\n",
    "from lark.tree import pydot__tree_to_png\n",
    "\n",
    "grammar2 = '''\n",
    "// Regras Sintaticas\n",
    "start: PE ( | elementos) PD\n",
    "elementos : elemento (VIR elemento)*\n",
    "elemento : NUMERO\n",
    "\n",
    "// Regras Lexicográficas\n",
    "NUMERO:\"0\"..\"9\"+ // [0-9]+\n",
    "PE:\"[\"\n",
    "PD:\"]\"\n",
    "VIR:\",\"\n",
    "\n",
    "// Tratamento dos espaços em branco\n",
    "%import common.WS\n",
    "%ignore WS\n",
    "'''\n",
    "\n",
    "frase = \"[1,23,345]\"\n",
    "\n",
    "p = Lark(grammar2) # cria um objeto parser\n",
    "\n",
    "tree = p.parse(frase)  # retorna uma tree\n",
    "print(tree)\n",
    "print(tree.pretty())\n",
    "#pydot__tree_to_png(tree,'lark_test.png')"
   ]
  },
  {
   "cell_type": "markdown",
   "metadata": {},
   "source": [
    "## Conversão da expressão [1.0:9.0][15.5:19.0] para Lark"
   ]
  },
  {
   "cell_type": "code",
   "execution_count": null,
   "metadata": {},
   "outputs": [
    {
     "name": "stdout",
     "output_type": "stream",
     "text": [
      "start\n",
      "  intervalo\n",
      "    [\n",
      "    1.0\n",
      "    9.0\n",
      "    ]\n",
      "  intervalo\n",
      "    [\n",
      "    15.5\n",
      "    19.0\n",
      "    ]\n",
      "\n"
     ]
    }
   ],
   "source": [
    "from lark import Lark\n",
    "\n",
    "grammar = '''\n",
    "// Regras Sintáticas\n",
    "start: intervalo+        // Um ou mais intervalos\n",
    "intervalo: PE NUMERO DP NUMERO PD   // Define um intervalo [num:num]\n",
    "\n",
    "// Regras Lexicográficas\n",
    "NUMERO: /\\d+(\\.\\d+)?/   \n",
    "PE: \"[\"\n",
    "PD: \"]\"\n",
    "DP: \":\"\n",
    "\n",
    "// Ignorar espaços em branco\n",
    "%import common.WS\n",
    "%ignore WS\n",
    "'''\n",
    "\n",
    "# Expressão de exemplo, obtida da aula dos docentes\n",
    "frase = \"[1.0:9.0][15.5:19.0]\"\n",
    "\n",
    "\n",
    "parser = Lark(grammar, start='start')\n",
    "\n",
    "\n",
    "tree = parser.parse(frase)\n",
    "print(tree.pretty())  \n"
   ]
  }
 ],
 "metadata": {
  "kernelspec": {
   "display_name": "myenv",
   "language": "python",
   "name": "python3"
  },
  "language_info": {
   "codemirror_mode": {
    "name": "ipython",
    "version": 3
   },
   "file_extension": ".py",
   "mimetype": "text/x-python",
   "name": "python",
   "nbconvert_exporter": "python",
   "pygments_lexer": "ipython3",
   "version": "3.8.20"
  }
 },
 "nbformat": 4,
 "nbformat_minor": 2
}
