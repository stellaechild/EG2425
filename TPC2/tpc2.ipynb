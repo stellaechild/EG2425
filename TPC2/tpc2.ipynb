{
  "nbformat": 4,
  "nbformat_minor": 0,
  "metadata": {
    "colab": {
      "provenance": []
    },
    "kernelspec": {
      "name": "python3",
      "display_name": "Python 3"
    },
    "language_info": {
      "name": "python"
    }
  },
  "cells": [
    {
      "cell_type": "markdown",
      "source": [
        "# EG 24/25 - Conversão do TPC1 para Lark\n",
        "\n",
        "## Maria Cunha e Tomás Campinho - Gr10"
      ],
      "metadata": {
        "id": "RhTG7cdSlUa4"
      }
    },
    {
      "cell_type": "markdown",
      "source": [
        "Link Google Colab: https://colab.research.google.com/drive/1mEA8PuKzugD_vmJPzaZfyOX06TzLaCsB?usp=sharing"
      ],
      "metadata": {
        "id": "R1gABPRGl5Z9"
      }
    },
    {
      "cell_type": "markdown",
      "source": [
        "## Implementar e adaptar a seguinte gramática em Lark:\n",
        "\n",
        "Terminal: { '.', ';', '[', ']', num }  \n",
        "Non-Terminal: { S, Is, RI, I }  \n",
        "Production Rules (P):  \n",
        "\n",
        "- p1: Sentence: Signal Intervals '.'  \n",
        "\n",
        "- p2: Signal: '+'  \n",
        "\n",
        "- p3: Signal: '-'  \n",
        "\n",
        "- p4: Intervals: Interval  \n",
        "\n",
        "- p5: Intervals: Intervals Interval  \n",
        "\n",
        "- p6: Interval: '[' num ':' num ']'  \n",
        "\n",
        "  - CC1: p[4] > p[2] &  \n",
        "  - CC2: p[2] >= parser.anterior  \n",
        "  - parser.anterior = p[4]  \n",
        "  - parser.erro = not (CC1) or not (CC2)  \n"
      ],
      "metadata": {
        "id": "F0hQn07HlZI-"
      }
    },
    {
      "cell_type": "code",
      "execution_count": 1,
      "metadata": {
        "colab": {
          "base_uri": "https://localhost:8080/"
        },
        "id": "nwqi507KKvNk",
        "outputId": "a3ea8ed1-cd02-4ad8-e926-029557e4cc4c"
      },
      "outputs": [
        {
          "output_type": "stream",
          "name": "stdout",
          "text": [
            "Requirement already satisfied: lark in /usr/local/lib/python3.11/dist-packages (1.2.2)\n"
          ]
        }
      ],
      "source": [
        "!pip install lark"
      ]
    },
    {
      "cell_type": "code",
      "source": [
        "from lark import Lark, Transformer\n",
        "\n",
        "grammar = '''\n",
        "// Regras Sintáticas\n",
        "sentence: signal interval+ DOT\n",
        "signal: PLUS\n",
        "      | MINUS\n",
        "interval: PE num COL num PD\n",
        "\n",
        "// Regras Lexicográficas\n",
        "num: /\\d+(\\.\\d+)?/\n",
        "PLUS: \"+\"\n",
        "MINUS: \"-\"\n",
        "DOT: \".\"\n",
        "PE:\"[\"\n",
        "PD:\"]\"\n",
        "COL:\":\"\n",
        "\n",
        "// Ignorar espaços em branco\n",
        "%import common.WS\n",
        "%ignore WS\n",
        "'''\n",
        "\n",
        "parser = Lark(grammar, start='sentence', parser='lalr')\n",
        "\n",
        "class IntervalTransformer(Transformer):\n",
        "    def __init__(self):\n",
        "        self.anterior = None\n",
        "        self.erro = False\n",
        "\n",
        "    def interval(self, items):\n",
        "        start = float(items[1].children[0].value)\n",
        "        end = float(items[3].children[0].value)\n",
        "\n",
        "        # check CC1 rule: end bound > start bound\n",
        "        CC1 = end > start\n",
        "        # check CC2 rule: start bound >= previous end bound\n",
        "        CC2 = start >= self.anterior if self.anterior is not None else True\n",
        "\n",
        "        # error handling\n",
        "        if not CC1:\n",
        "            print(f\"CC1 Error: interval [{start}:{end}] - end bound ({end}) must be greater than start bound ({start}).\")\n",
        "            self.erro = True\n",
        "\n",
        "        if not CC2:\n",
        "            print(f\"CC2 Error: interval [{start}:{end}] - start bound ({start}) must be greater than or equal to the previous end bound ({self.anterior}).\")\n",
        "            self.erro = True\n",
        "\n",
        "        # update end bound\n",
        "        self.anterior = end\n",
        "\n",
        "    def final_check(self):\n",
        "        if self.erro:\n",
        "            print(\"\\nIncorrect expression!\")\n",
        "        else:\n",
        "            print(\"The expression is correct!\")\n",
        "\n",
        "\n",
        "input_data = \"+   [ 20.0:9.0 ]  [1.5 :19.0] .\"\n",
        "tree = parser.parse(input_data)\n",
        "print(tree.pretty())\n",
        "\n",
        "transformer = IntervalTransformer()\n",
        "res = transformer.transform(tree)\n",
        "transformer.final_check()"
      ],
      "metadata": {
        "colab": {
          "base_uri": "https://localhost:8080/"
        },
        "id": "-ZCHvPj4SRJl",
        "outputId": "15505a39-e75d-4ee9-930b-25f23faf6bf3"
      },
      "execution_count": 2,
      "outputs": [
        {
          "output_type": "stream",
          "name": "stdout",
          "text": [
            "sentence\n",
            "  signal\t+\n",
            "  interval\n",
            "    [\n",
            "    num\t20.0\n",
            "    :\n",
            "    num\t9.0\n",
            "    ]\n",
            "  interval\n",
            "    [\n",
            "    num\t1.5\n",
            "    :\n",
            "    num\t19.0\n",
            "    ]\n",
            "  .\n",
            "\n",
            "CC1 Error: interval [20.0:9.0] - end bound (9.0) must be greater than start bound (20.0).\n",
            "CC2 Error: interval [1.5:19.0] - start bound (1.5) must be greater than or equal to the previous end bound (9.0).\n",
            "\n",
            "Incorrect expression!\n"
          ]
        }
      ]
    }
  ]
}